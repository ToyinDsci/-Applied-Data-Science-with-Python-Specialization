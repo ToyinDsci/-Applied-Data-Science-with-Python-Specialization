{
 "cells": [
  {
   "cell_type": "markdown",
   "metadata": {
    "deletable": false,
    "editable": false,
    "etc_identifier": "653a3605-5bda-4e1f-beef-04a0173d3f41",
    "nbgrader": {
     "cell_type": "markdown",
     "checksum": "48770f8b5f5d3062d3badd51fcafc401",
     "grade": false,
     "grade_id": "cell-a6c4f74309fc2379",
     "locked": true,
     "schema_version": 3,
     "solution": false
    }
   },
   "source": [
    "# Assignment 4\n",
    "## Description\n",
    "In this assignment you must read in a file of metropolitan regions and associated sports teams from [assets/wikipedia_data.html](assets/wikipedia_data.html) and answer some questions about each metropolitan region. Each of these regions may have one or more teams from the \"Big 4\": NFL (football, in [assets/nfl.csv](assets/nfl.csv)), MLB (baseball, in [assets/mlb.csv](assets/mlb.csv)), NBA (basketball, in [assets/nba.csv](assets/nba.csv) or NHL (hockey, in [assets/nhl.csv](assets/nhl.csv)). Please keep in mind that all questions are from the perspective of the metropolitan region, and that this file is the \"source of authority\" for the location of a given sports team. Thus teams which are commonly known by a different area (e.g. \"Oakland Raiders\") need to be mapped into the metropolitan region given (e.g. San Francisco Bay Area). This will require some human data understanding outside of the data you've been given (e.g. you will have to hand-code some names, and might need to google to find out where teams are)!\n",
    "\n",
    "For each sport I would like you to answer the question: **what is the win/loss ratio's correlation with the population of the city it is in?** Win/Loss ratio refers to the number of wins over the number of wins plus the number of losses. Remember that to calculate the correlation with [`pearsonr`](https://docs.scipy.org/doc/scipy/reference/generated/scipy.stats.pearsonr.html), so you are going to send in two ordered lists of values, the populations from the wikipedia_data.html file and the win/loss ratio for a given sport in the same order. Average the win/loss ratios for those cities which have multiple teams of a single sport. Each sport is worth an equal amount in this assignment (20%\\*4=80%) of the grade for this assignment. You should only use data **from year 2018** for your analysis -- this is important!\n",
    "\n",
    "## Notes\n",
    "\n",
    "1. Do not include data about the MLS or CFL in any of the work you are doing, we're only interested in the Big 4 in this assignment.\n",
    "2. I highly suggest that you first tackle the four correlation questions in order, as they are all similar and worth the majority of grades for this assignment. This is by design!\n",
    "3. It's fair game to talk with peers about high level strategy as well as the relationship between metropolitan areas and sports teams. However, do not post code solving aspects of the assignment (including such as dictionaries mapping areas to teams, or regexes which will clean up names).\n",
    "4. There may be more teams than the assert statements test, remember to collapse multiple teams in one city into a single value!"
   ]
  },
  {
   "cell_type": "markdown",
   "metadata": {
    "deletable": false,
    "editable": false,
    "nbgrader": {
     "cell_type": "markdown",
     "checksum": "369ff9ecf0ee04640574205cbc697f94",
     "grade": false,
     "grade_id": "cell-712b2b5da63d4505",
     "locked": true,
     "schema_version": 3,
     "solution": false
    }
   },
   "source": [
    "## Question 1\n",
    "For this question, calculate the win/loss ratio's correlation with the population of the city it is in for the **NHL** using **2018** data."
   ]
  },
  {
   "cell_type": "code",
   "execution_count": 1,
   "metadata": {},
   "outputs": [],
   "source": [
    "%%capture\n",
    "#RUN FIRST, installs a missing library\n",
    "import sys\n",
    "!{sys.executable} -m pip install lxml==4.4.1"
   ]
  },
  {
   "cell_type": "code",
   "execution_count": 2,
   "metadata": {},
   "outputs": [],
   "source": [
    "def clean_data(filename):\n",
    "    if re.search('\\[[\\w ]+]',filename) is None:\n",
    "        return filename\n",
    "    else:\n",
    "        return filename.replace(re.search('\\[[\\w ]*\\]$', filename).group(), '')"
   ]
  },
  {
   "cell_type": "code",
   "execution_count": 3,
   "metadata": {},
   "outputs": [],
   "source": [
    "def get_nhlarea(team):\n",
    "    for each in list(city_nhlteams.index.values):\n",
    "        if team in each:\n",
    "            return city_nhlteams.at[each, 'Metropolitan area']\n",
    "def get_nbaarea(team):\n",
    "    for each in list(city_nbateams.index.values):\n",
    "        if team in each:\n",
    "            return city_nbateams.at[each, 'Metropolitan area']\n",
    "def get_mlbarea(team):\n",
    "    for each in list(city_mlbteams.index.values):\n",
    "        if team in each:\n",
    "            return city_mlbteams.at[each, 'Metropolitan area']\n",
    "def get_nflarea(team):\n",
    "    for each in list(city_nflteams.index.values):\n",
    "        if team in each:\n",
    "            return city_nflteams.at[each, 'Metropolitan area']"
   ]
  },
  {
   "cell_type": "code",
   "execution_count": null,
   "metadata": {},
   "outputs": [],
   "source": []
  },
  {
   "cell_type": "code",
   "execution_count": 4,
   "metadata": {
    "deletable": false,
    "nbgrader": {
     "cell_type": "code",
     "checksum": "1cac4803b02502929f5b1612d48db2b5",
     "grade": false,
     "grade_id": "cell-69b16e4386e58030",
     "locked": false,
     "schema_version": 3,
     "solution": true
    }
   },
   "outputs": [
    {
     "data": {
      "text/plain": [
       "0.012308996455744249"
      ]
     },
     "execution_count": 4,
     "metadata": {},
     "output_type": "execute_result"
    }
   ],
   "source": [
    "import pandas as pd\n",
    "import numpy as np\n",
    "import scipy.stats as stats\n",
    "import re\n",
    "\n",
    "nhl_df=pd.read_csv(\"assets/nhl.csv\")\n",
    "nhl_df = nhl_df[nhl_df['year']==2018]\n",
    "cities=pd.read_html(\"assets/wikipedia_data.html\")[1]\n",
    "cities=cities.iloc[:-1,[0,3,5,6,7,8]]\n",
    "cities.rename(columns={'Population (2016 est.)[8]': 'Population'},inplace=True)\n",
    "\n",
    "cities['NHL'] = cities['NHL'].apply(lambda x: clean_data(x))\n",
    "\n",
    "city_nhlteams = cities[['Metropolitan area', 'NHL']].set_index('NHL')\n",
    "city_nhlteams.drop(['—', ''], axis=0,inplace=True)\n",
    "\n",
    "   \n",
    "nhl_df['team'] = nhl_df['team'].apply(lambda x: x[:-1].strip() if x.endswith(\"*\") else x.strip())\n",
    "nhl_df['area'] = nhl_df['team'].apply(lambda x: x.split(\" \")[-1])\n",
    "nhl_df['area'] = nhl_df['area'].apply(lambda x: get_nhlarea(x))\n",
    "\n",
    "out = []\n",
    "for group, frame in nhl_df.groupby('area'):\n",
    "    total_wins = np.sum(pd.to_numeric(frame['W']))\n",
    "    total_losses = np.sum(pd.to_numeric(frame['L']))\n",
    "    total_matches = total_wins + total_losses\n",
    "    ratio = (total_wins / total_matches)\n",
    "    out_dict = {\n",
    "        'Area': group,\n",
    "        'Ratio': ratio\n",
    "    }\n",
    "    out.append(out_dict)\n",
    "\n",
    "population = cities[['Metropolitan area', 'Population']]\n",
    "population = population.set_index('Metropolitan area')\n",
    "\n",
    "new_df = pd.DataFrame(out)\n",
    "new_df = new_df.set_index('Area')\n",
    "nhl = pd.merge(new_df, population, how=\"inner\", left_index=True, right_index=True)\n",
    "nhl['Population'] = pd.to_numeric(nhl['Population'])\n",
    "\n",
    "\n",
    "def nhl_correlation(): \n",
    "    # YOUR CODE HERE\n",
    "    #raise NotImplementedError()\n",
    "    \n",
    "    population_by_region = nhl['Population'] # pass in metropolitan area population from cities\n",
    "    win_loss_by_region = nhl['Ratio'] # pass in win/loss ratio from nhl_df in the same order as cities[\"Metropolitan area\"]\n",
    "\n",
    "    assert len(population_by_region) == len(win_loss_by_region), \"Q1: Your lists must be the same length\"\n",
    "    assert len(population_by_region) == 28, \"Q1: There should be 28 teams being analysed for NHL\"\n",
    "    \n",
    "    return stats.pearsonr(population_by_region, win_loss_by_region)[0]\n",
    "   \n",
    "nhl_correlation()"
   ]
  },
  {
   "cell_type": "code",
   "execution_count": null,
   "metadata": {
    "deletable": false,
    "editable": false,
    "nbgrader": {
     "cell_type": "code",
     "checksum": "52a581df513c71153e105b93764cda4b",
     "grade": true,
     "grade_id": "cell-ebe0b2dfe1067e63",
     "locked": true,
     "points": 20,
     "schema_version": 3,
     "solution": false
    }
   },
   "outputs": [],
   "source": []
  },
  {
   "cell_type": "markdown",
   "metadata": {
    "deletable": false,
    "editable": false,
    "nbgrader": {
     "cell_type": "markdown",
     "checksum": "988912cae4968d81473f46d783e79c16",
     "grade": false,
     "grade_id": "cell-cb964e690298b71d",
     "locked": true,
     "schema_version": 3,
     "solution": false
    }
   },
   "source": [
    "## Question 2\n",
    "For this question, calculate the win/loss ratio's correlation with the population of the city it is in for the **NBA** using **2018** data."
   ]
  },
  {
   "cell_type": "code",
   "execution_count": 5,
   "metadata": {
    "deletable": false,
    "nbgrader": {
     "cell_type": "code",
     "checksum": "9394222aafc8ccab0a228098ba0d6010",
     "grade": false,
     "grade_id": "cell-5a5f21279e3d3572",
     "locked": false,
     "schema_version": 3,
     "solution": true
    }
   },
   "outputs": [
    {
     "data": {
      "text/plain": [
       "-0.17657160252844614"
      ]
     },
     "execution_count": 5,
     "metadata": {},
     "output_type": "execute_result"
    }
   ],
   "source": [
    "import pandas as pd\n",
    "import numpy as np\n",
    "import scipy.stats as stats\n",
    "import re\n",
    "\n",
    "nba_df=pd.read_csv(\"assets/nba.csv\")\n",
    "nba_df = nba_df[nba_df['year']==2018]\n",
    "cities=pd.read_html(\"assets/wikipedia_data.html\")[1]\n",
    "cities=cities.iloc[:-1,[0,3,5,6,7,8]]\n",
    "\n",
    "cities.rename(columns={'Population (2016 est.)[8]': 'Population'},inplace=True)\n",
    "cities['NBA'] = cities['NBA'].apply(lambda x: clean_data(x))\n",
    "\n",
    "\n",
    "\n",
    "city_nbateams = cities[['Metropolitan area', 'NBA']].set_index('NBA')\n",
    "city_nbateams.drop(['—', ''], axis=0,inplace=True)\n",
    "\n",
    "\n",
    "nba_df['team'].replace(to_replace = '(\\*.\\(\\d+\\))|\\(\\d+\\)',value='',regex=True,inplace=True)\n",
    "nba_df['team'] = nba_df['team'].apply(lambda x: x.strip())\n",
    "\n",
    "nba_df['area'] = nba_df['team'].apply(lambda x: x.split()[-1])\n",
    "nba_df['area'] = nba_df['area'].apply(lambda x: get_nbaarea(x))\n",
    "\n",
    "\n",
    "\n",
    "out2 = []\n",
    "for group, frame in nba_df.groupby('area'):\n",
    "    total_wins = np.sum(pd.to_numeric(frame['W']))\n",
    "    total_losses = np.sum(pd.to_numeric(frame['L']))\n",
    "    total_matches = total_wins + total_losses\n",
    "    ratio = (total_wins / total_matches)\n",
    "    out2_dict = {\n",
    "        'Area': group,\n",
    "        'Ratio': ratio\n",
    "    }\n",
    "    out2.append(out2_dict)\n",
    "\n",
    "population2 = cities[['Metropolitan area', 'Population']]\n",
    "population2 = population2.set_index('Metropolitan area')\n",
    "\n",
    "new2_df = pd.DataFrame(out2)\n",
    "new2_df = new2_df.set_index('Area')\n",
    "nba = pd.merge(new2_df, population2, how=\"inner\", left_index=True, right_index=True)\n",
    "nba['Population'] = pd.to_numeric(nba['Population'])\n",
    "\n",
    "def nba_correlation():\n",
    "    # YOUR CODE HERE\n",
    "    \n",
    "    \n",
    "    population_by_region = nba['Population'] # pass in metropolitan area population from cities\n",
    "    win_loss_by_region = nba['Ratio'] # pass in win/loss ratio from nba_df in the same order as cities[\"Metropolitan area\"]\n",
    "\n",
    "    assert len(population_by_region) == len(win_loss_by_region), \"Q2: Your lists must be the same length\"\n",
    "    assert len(population_by_region) == 28, \"Q2: There should be 28 teams being analysed for NBA\"\n",
    "\n",
    "    return stats.pearsonr(population_by_region, win_loss_by_region)[0]\n",
    "    \n",
    "nba_correlation()"
   ]
  },
  {
   "cell_type": "code",
   "execution_count": null,
   "metadata": {
    "deletable": false,
    "editable": false,
    "nbgrader": {
     "cell_type": "code",
     "checksum": "bbdeb8eb22f525a34c10dc8798324e42",
     "grade": true,
     "grade_id": "cell-e573b2b4a282b470",
     "locked": true,
     "points": 20,
     "schema_version": 3,
     "solution": false
    }
   },
   "outputs": [],
   "source": []
  },
  {
   "cell_type": "markdown",
   "metadata": {
    "deletable": false,
    "editable": false,
    "nbgrader": {
     "cell_type": "markdown",
     "checksum": "1a1a5809f675ca033086422007cd73bd",
     "grade": false,
     "grade_id": "cell-96e15e4335df78f4",
     "locked": true,
     "schema_version": 3,
     "solution": false
    }
   },
   "source": [
    "## Question 3\n",
    "For this question, calculate the win/loss ratio's correlation with the population of the city it is in for the **MLB** using **2018** data."
   ]
  },
  {
   "cell_type": "code",
   "execution_count": 6,
   "metadata": {
    "deletable": false,
    "nbgrader": {
     "cell_type": "code",
     "checksum": "27e8c0da6c9fa0dffc10488314335b6c",
     "grade": false,
     "grade_id": "cell-33b00fc3f3467b0c",
     "locked": false,
     "schema_version": 3,
     "solution": true
    }
   },
   "outputs": [
    {
     "data": {
      "text/plain": [
       "0.1505230448710485"
      ]
     },
     "execution_count": 6,
     "metadata": {},
     "output_type": "execute_result"
    }
   ],
   "source": [
    "import pandas as pd\n",
    "import numpy as np\n",
    "import scipy.stats as stats\n",
    "import re\n",
    "\n",
    "\n",
    "mlb_df=pd.read_csv(\"assets/mlb.csv\")\n",
    "mlb_df = mlb_df[mlb_df['year']==2018]\n",
    "\n",
    "cities=pd.read_html(\"assets/wikipedia_data.html\")[1]\n",
    "cities=cities.iloc[:-1,[0,3,5,6,7,8]]\n",
    "cities.rename(columns={'Population (2016 est.)[8]': 'Population'},inplace=True)\n",
    "cities['MLB'] = cities['MLB'].apply(lambda x: clean_data(x))\n",
    "\n",
    "city_mlbteams = cities[['Metropolitan area', 'MLB']].set_index('MLB')\n",
    "city_mlbteams.drop(['—', ''], axis=0,inplace=True)\n",
    "\n",
    "mlb_df['team'] = mlb_df['team'].apply(lambda x: x.strip())\n",
    "mlb_df['area'] = mlb_df['team'].apply(lambda x: x.split(\" \")[-1])\n",
    "mlb_df['area'] = mlb_df['area'].apply(lambda x: get_mlbarea(x))\n",
    "mlb_df.at[0, 'area'] = 'Boston'\n",
    "\n",
    "out3 = []\n",
    "for group, frame in mlb_df.groupby('area'):\n",
    "    total_wins = np.sum(pd.to_numeric(frame['W']))\n",
    "    total_losses = np.sum(pd.to_numeric(frame['L']))\n",
    "    total_matches = total_wins + total_losses\n",
    "    ratio = (total_wins / total_matches)\n",
    "    mlb_dict = {\n",
    "        'Area': group,\n",
    "        'Ratio': ratio\n",
    "    }\n",
    "    out3.append(mlb_dict)\n",
    "\n",
    "population3 = cities[['Metropolitan area', 'Population']]\n",
    "population3 = population3.set_index('Metropolitan area')\n",
    "\n",
    "df3 = pd.DataFrame(out3)\n",
    "df3 = df3.set_index('Area')\n",
    "mlb = pd.merge(df3, population3, how=\"inner\", left_index=True, right_index=True)\n",
    "mlb['Population'] = pd.to_numeric(mlb['Population'])\n",
    "\n",
    "def mlb_correlation(): \n",
    "    # YOUR CODE HERE\n",
    "  \n",
    "    \n",
    "    population_by_region = mlb['Population'] # pass in metropolitan area population from cities\n",
    "    win_loss_by_region = mlb['Ratio']# pass in win/loss ratio from mlb_df in the same order as cities[\"Metropolitan area\"]\n",
    "\n",
    "    assert len(population_by_region) == len(win_loss_by_region), \"Q3: Your lists must be the same length\"\n",
    "    assert len(population_by_region) == 26, \"Q3: There should be 26 teams being analysed for MLB\"\n",
    "\n",
    "    return stats.pearsonr(population_by_region, win_loss_by_region)[0]\n",
    "  \n",
    "mlb_correlation()"
   ]
  },
  {
   "cell_type": "code",
   "execution_count": null,
   "metadata": {
    "deletable": false,
    "editable": false,
    "nbgrader": {
     "cell_type": "code",
     "checksum": "cda33b094ba19ccc37a481e0dd29e0bc",
     "grade": true,
     "grade_id": "cell-764d4476f425c5a2",
     "locked": true,
     "points": 20,
     "schema_version": 3,
     "solution": false
    }
   },
   "outputs": [],
   "source": []
  },
  {
   "cell_type": "markdown",
   "metadata": {
    "deletable": false,
    "editable": false,
    "nbgrader": {
     "cell_type": "markdown",
     "checksum": "6977a6da9ed6d8b7a0b7e37bbeda709b",
     "grade": false,
     "grade_id": "cell-793df6c04dfb126e",
     "locked": true,
     "schema_version": 3,
     "solution": false
    }
   },
   "source": [
    "## Question 4\n",
    "For this question, calculate the win/loss ratio's correlation with the population of the city it is in for the **NFL** using **2018** data."
   ]
  },
  {
   "cell_type": "code",
   "execution_count": 7,
   "metadata": {
    "deletable": false,
    "nbgrader": {
     "cell_type": "code",
     "checksum": "c4914ad1e119278ec2bd567c52640b66",
     "grade": false,
     "grade_id": "cell-8ccebc209aeec8d9",
     "locked": false,
     "schema_version": 3,
     "solution": true
    }
   },
   "outputs": [
    {
     "data": {
      "text/plain": [
       "0.004922112149349407"
      ]
     },
     "execution_count": 7,
     "metadata": {},
     "output_type": "execute_result"
    }
   ],
   "source": [
    "import pandas as pd\n",
    "import numpy as np\n",
    "import scipy.stats as stats\n",
    "import re\n",
    "\n",
    "nfl_df=pd.read_csv(\"assets/nfl.csv\")\n",
    "nfl_df = nfl_df[nfl_df['year']==2018]\n",
    "cities=pd.read_html(\"assets/wikipedia_data.html\")[1]\n",
    "cities=cities.iloc[:-1,[0,3,5,6,7,8]]\n",
    "cities.rename(columns={'Population (2016 est.)[8]': 'Population'},inplace=True)\n",
    "cities['NFL'] = cities['NFL'].apply(lambda x: clean_data(x))\n",
    "\n",
    "city_nflteams = cities[['Metropolitan area', 'NFL']].set_index('NFL')\n",
    "city_nflteams.drop(['—', '', '— '], axis=0,inplace=True)\n",
    "\n",
    "nfl_df['team'] = nfl_df['team'].apply(lambda x: x[:-1].strip() if x.endswith((\"*\",\"+\")) else x.strip())\n",
    "nfl_df['area'] = nfl_df['team'].apply(lambda x: x.split(\" \")[-1])\n",
    "nfl_df['area'] = nfl_df['area'].apply(lambda x: get_nflarea(x))\n",
    "nfl_df = nfl_df[nfl_df['area'] != None]\n",
    "\n",
    "out4 = []\n",
    "for group, frame in nfl_df.groupby('area'):\n",
    "    total_wins = np.sum(pd.to_numeric(frame['W']))\n",
    "    total_losses = np.sum(pd.to_numeric(frame['L']))\n",
    "    total_matches = total_wins + total_losses\n",
    "    ratio = (total_wins / total_matches)\n",
    "    out4_dict = {\n",
    "        'Area': group,\n",
    "        'Ratio': ratio\n",
    "    }\n",
    "    out4.append(out4_dict)\n",
    "\n",
    "population4 = cities[['Metropolitan area', 'Population']]\n",
    "population4 = population4.set_index('Metropolitan area')\n",
    "\n",
    "df4 = pd.DataFrame(out4)\n",
    "df4 = df4.set_index('Area')\n",
    "nfl= pd.merge(df4, population4, how=\"inner\", left_index=True, right_index=True)\n",
    "nfl['Population'] = pd.to_numeric(nfl['Population'])\n",
    "def nfl_correlation(): \n",
    "    # YOUR CODE HERE\n",
    "   \n",
    "    \n",
    "    population_by_region = nfl['Population'] # pass in metropolitan area population from cities\n",
    "    win_loss_by_region = nfl['Ratio'] # pass in win/loss ratio from nfl_df in the same order as cities[\"Metropolitan area\"]\n",
    "\n",
    "    assert len(population_by_region) == len(win_loss_by_region), \"Q4: Your lists must be the same length\"\n",
    "    assert len(population_by_region) == 29, \"Q4: There should be 29 teams being analysed for NFL\"\n",
    "\n",
    "    return stats.pearsonr(population_by_region, win_loss_by_region)[0]\n",
    "    \n",
    "nfl_correlation()"
   ]
  },
  {
   "cell_type": "code",
   "execution_count": null,
   "metadata": {
    "deletable": false,
    "editable": false,
    "nbgrader": {
     "cell_type": "code",
     "checksum": "e9415d6399aa49e3a1a60813afdefa3b",
     "grade": true,
     "grade_id": "cell-de7b148b9554dbda",
     "locked": true,
     "points": 20,
     "schema_version": 3,
     "solution": false
    }
   },
   "outputs": [],
   "source": []
  },
  {
   "cell_type": "markdown",
   "metadata": {
    "deletable": false,
    "editable": false,
    "nbgrader": {
     "cell_type": "markdown",
     "checksum": "b02d5cd3273f561e4ae939bb2a41740c",
     "grade": false,
     "grade_id": "cell-97b49d8639e908c4",
     "locked": true,
     "schema_version": 3,
     "solution": false
    }
   },
   "source": [
    "## Question 5\n",
    "In this question I would like you to explore the hypothesis that **given that an area has two sports teams in different sports, those teams will perform the same within their respective sports**. How I would like to see this explored is with a series of paired t-tests (so use [`ttest_rel`](https://docs.scipy.org/doc/scipy/reference/generated/scipy.stats.ttest_rel.html)) between all pairs of sports. Are there any sports where we can reject the null hypothesis? Again, average values where a sport has multiple teams in one region. Remember, you will only be including, for each sport, cities which have teams engaged in that sport, drop others as appropriate. This question is worth 20% of the grade for this assignment."
   ]
  },
  {
   "cell_type": "code",
   "execution_count": 8,
   "metadata": {
    "deletable": false,
    "nbgrader": {
     "cell_type": "code",
     "checksum": "6d78c961eb66f8d8c81f06d33ae8f393",
     "grade": false,
     "grade_id": "cell-92f25f44b8d1179f",
     "locked": false,
     "schema_version": 3,
     "solution": true
    }
   },
   "outputs": [
    {
     "data": {
      "text/html": [
       "<div>\n",
       "<style scoped>\n",
       "    .dataframe tbody tr th:only-of-type {\n",
       "        vertical-align: middle;\n",
       "    }\n",
       "\n",
       "    .dataframe tbody tr th {\n",
       "        vertical-align: top;\n",
       "    }\n",
       "\n",
       "    .dataframe thead th {\n",
       "        text-align: right;\n",
       "    }\n",
       "</style>\n",
       "<table border=\"1\" class=\"dataframe\">\n",
       "  <thead>\n",
       "    <tr style=\"text-align: right;\">\n",
       "      <th></th>\n",
       "      <th>NFL</th>\n",
       "      <th>NBA</th>\n",
       "      <th>NHL</th>\n",
       "      <th>MLB</th>\n",
       "    </tr>\n",
       "  </thead>\n",
       "  <tbody>\n",
       "    <tr>\n",
       "      <th>NFL</th>\n",
       "      <td>NaN</td>\n",
       "      <td>0.941792</td>\n",
       "      <td>0.030959</td>\n",
       "      <td>0.802384</td>\n",
       "    </tr>\n",
       "    <tr>\n",
       "      <th>NBA</th>\n",
       "      <td>0.941792</td>\n",
       "      <td>NaN</td>\n",
       "      <td>0.022316</td>\n",
       "      <td>0.951046</td>\n",
       "    </tr>\n",
       "    <tr>\n",
       "      <th>NHL</th>\n",
       "      <td>0.030959</td>\n",
       "      <td>0.022316</td>\n",
       "      <td>NaN</td>\n",
       "      <td>0.000712</td>\n",
       "    </tr>\n",
       "    <tr>\n",
       "      <th>MLB</th>\n",
       "      <td>0.802384</td>\n",
       "      <td>0.951046</td>\n",
       "      <td>0.000712</td>\n",
       "      <td>NaN</td>\n",
       "    </tr>\n",
       "  </tbody>\n",
       "</table>\n",
       "</div>"
      ],
      "text/plain": [
       "          NFL       NBA       NHL       MLB\n",
       "NFL       NaN  0.941792  0.030959  0.802384\n",
       "NBA  0.941792       NaN  0.022316  0.951046\n",
       "NHL  0.030959  0.022316       NaN  0.000712\n",
       "MLB  0.802384  0.951046  0.000712       NaN"
      ]
     },
     "execution_count": 8,
     "metadata": {},
     "output_type": "execute_result"
    }
   ],
   "source": [
    "import pandas as pd\n",
    "import numpy as np\n",
    "import scipy.stats as stats\n",
    "import re\n",
    "\n",
    "mlb_df=pd.read_csv(\"assets/mlb.csv\")\n",
    "nhl_df=pd.read_csv(\"assets/nhl.csv\")\n",
    "nba_df=pd.read_csv(\"assets/nba.csv\")\n",
    "nfl_df=pd.read_csv(\"assets/nfl.csv\")\n",
    "cities=pd.read_html(\"assets/wikipedia_data.html\")[1]\n",
    "cities=cities.iloc[:-1,[0,3,5,6,7,8]]\n",
    "\n",
    "\n",
    "NBA = nba.reset_index().rename(columns={'index':'State'}).set_index('State').drop('Population',axis=1)\n",
    "NFL = nfl.reset_index().rename(columns={'index':'State'}).set_index('State').drop('Population',axis=1)\n",
    "MLB = mlb.reset_index().rename(columns={'index':'State'}).set_index('State').drop('Population',axis=1)\n",
    "NHL = nhl.reset_index().rename(columns={'index':'State'}).set_index('State').drop('Population',axis=1)\n",
    "\n",
    "\n",
    "def sports_team_performance():\n",
    "    # YOUR CODE HERE\n",
    "    #raise NotImplementedError()\n",
    "    \n",
    "    # Note: p_values is a full dataframe, so df.loc[\"NFL\",\"NBA\"] should be the same as df.loc[\"NBA\",\"NFL\"] and\n",
    "    # df.loc[\"NFL\",\"NFL\"] should return np.nan\n",
    "    #sports = ['NFL', 'NBA', 'NHL', 'MLB']\n",
    "    sports = {\"NFL\": NFL, \"NBA\": NBA, \"NHL\": NHL, \"MLB\": MLB}\n",
    "    def calculate_p_values(sports):\n",
    "        \n",
    "        p_values = pd.DataFrame(columns=sports.keys(), index=sports.keys())\n",
    "        for (sports_name1, sports_df1) in sports.items():\n",
    "            for (sports_name2, sports_df2) in sports.items():\n",
    "                df_merge = pd.merge(sports_df1, sports_df2, on=\"State\")\n",
    "                p_values.loc[sports_name1, sports_name2] = stats.ttest_rel(df_merge[\"Ratio_x\"],df_merge[\"Ratio_y\"])[1]\n",
    "\n",
    "        return p_values\n",
    "    \n",
    "    p_values = calculate_p_values(sports)\n",
    "    p_values  = p_values.astype(np.float)\n",
    "    \n",
    "    assert abs(p_values.loc[\"NBA\", \"NHL\"] - 0.02) <= 1e-2, \"The NBA-NHL p-value should be around 0.02\"\n",
    "    assert abs(p_values.loc[\"MLB\", \"NFL\"] - 0.80) <= 1e-2, \"The MLB-NFL p-value should be around 0.80\"\n",
    "    return p_values\n",
    "sports_team_performance()"
   ]
  },
  {
   "cell_type": "code",
   "execution_count": null,
   "metadata": {
    "deletable": false,
    "editable": false,
    "nbgrader": {
     "cell_type": "code",
     "checksum": "2a596ab421a45cc01168d10e8fbb8f89",
     "grade": true,
     "grade_id": "cell-fb4b9cb5ff4570a6",
     "locked": true,
     "points": 20,
     "schema_version": 3,
     "solution": false
    }
   },
   "outputs": [],
   "source": []
  }
 ],
 "metadata": {
  "coursera": {
   "schema_names": [
    "mooc_adswpy_v1_assignment4"
   ]
  },
  "kernelspec": {
   "display_name": "Python 3 (ipykernel)",
   "language": "python",
   "name": "python3"
  },
  "language_info": {
   "codemirror_mode": {
    "name": "ipython",
    "version": 3
   },
   "file_extension": ".py",
   "mimetype": "text/x-python",
   "name": "python",
   "nbconvert_exporter": "python",
   "pygments_lexer": "ipython3",
   "version": "3.8.10"
  }
 },
 "nbformat": 4,
 "nbformat_minor": 4
}
